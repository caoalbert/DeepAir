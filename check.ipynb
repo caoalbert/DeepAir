{
 "cells": [
  {
   "cell_type": "code",
   "execution_count": 1,
   "metadata": {},
   "outputs": [],
   "source": [
    "import pandas as pd\n",
    "import numpy as np"
   ]
  },
  {
   "cell_type": "code",
   "execution_count": 20,
   "metadata": {},
   "outputs": [],
   "source": [
    "aspm77 = dataset.aspm77\n",
    "throughput_grouped = dataset.throughput"
   ]
  },
  {
   "cell_type": "code",
   "execution_count": 10,
   "metadata": {},
   "outputs": [],
   "source": [
    "df = pd.read_csv('../data/1993_2023_CA.csv')\n",
    "df['quarter_id'] = (df['Year']-1993)*4 + df['Quarter'] \n",
    "ca_airport = df[df['OriginState'] == 'CA']['Origin'].unique()\n",
    "\n",
    "df = df[['Origin', 'Dest', 'Passengers','quarter_id']]\n",
    "df['Passengers'] = (df['Passengers']*10).astype(int)\n",
    "\n",
    "number_of_quarters = df.groupby('Origin')['quarter_id'].nunique().sort_values(ascending=False).reset_index()\n",
    "selected_airports_from_od = number_of_quarters[number_of_quarters['quarter_id'] >= 124]['Origin'].values\n",
    "\n",
    "\n",
    "ca_airport = set(ca_airport).intersection(aspm77.values()).intersection(set(selected_airports_from_od))\n",
    "selected_airports = set(selected_airports_from_od).intersection(aspm77.values())\n",
    "\n",
    "df = df[(df['Origin'].isin(selected_airports)) & (df['Dest'].isin(selected_airports))].reset_index(drop=True)\n"
   ]
  },
  {
   "cell_type": "code",
   "execution_count": 17,
   "metadata": {},
   "outputs": [],
   "source": [
    "training_x_start_quarter = 36\n",
    "prediction_horizon_size = 12\n",
    "training_length = 20\n",
    "\n",
    "training_x_end_quarter = training_x_start_quarter+training_length\n",
    "training_y_start_quarter = training_x_end_quarter\n",
    "training_y_end_quarter = training_y_start_quarter+prediction_horizon_size\n",
    "\n",
    "testing_x_start_quarter = training_x_start_quarter+prediction_horizon_size\n",
    "testing_x_end_quarter = testing_x_start_quarter+training_length\n",
    "testing_y_start_quarter = testing_x_end_quarter\n",
    "testing_y_end_quarter = testing_y_start_quarter+prediction_horizon_size\n",
    "\n"
   ]
  },
  {
   "cell_type": "code",
   "execution_count": 18,
   "metadata": {},
   "outputs": [],
   "source": [
    "quarters_required_in_od = np.arange(training_x_start_quarter, testing_x_end_quarter)\n",
    "quarters_required_in_throughput = np.arange(training_x_start_quarter, testing_y_end_quarter)"
   ]
  },
  {
   "cell_type": "code",
   "execution_count": 232,
   "metadata": {},
   "outputs": [],
   "source": [
    "# od_selected = df[df['quarter_id'].isin(quarters_required_in_od)]\n",
    "# od_selected_cnt = od_selected.groupby(['Origin', 'Dest'])['quarter_id'].nunique().reset_index()"
   ]
  },
  {
   "cell_type": "code",
   "execution_count": 21,
   "metadata": {},
   "outputs": [],
   "source": [
    "throughput_selected = throughput_grouped[throughput_grouped['quarter_id'].isin(quarters_required_in_throughput)]\n",
    "throughput_selected_cnt = throughput_selected.groupby(['Facility'])['quarter_id'].nunique().reset_index()\n",
    "qualified_airports = throughput_selected_cnt[throughput_selected_cnt['quarter_id'] >= len(quarters_required_in_throughput)]['Facility'].values"
   ]
  },
  {
   "cell_type": "code",
   "execution_count": 22,
   "metadata": {},
   "outputs": [
    {
     "name": "stdout",
     "output_type": "stream",
     "text": [
      "Number of airports in the network: 55\n",
      "The airports in the network are: ['ABQ' 'ATL' 'BDL' 'BNA' 'BOS' 'BUR' 'BWI' 'CLE' 'CLT' 'CVG' 'DAL' 'DAY'\n",
      " 'DCA' 'DEN' 'DFW' 'DTW' 'EWR' 'FLL' 'HNL' 'HOU' 'HPN' 'IAD' 'IAH' 'IND'\n",
      " 'JFK' 'LAS' 'LAX' 'LGA' 'MCI' 'MCO' 'MDW' 'MEM' 'MIA' 'MSP' 'MSY' 'OAK'\n",
      " 'ONT' 'ORD' 'PBI' 'PDX' 'PHL' 'PHX' 'PIT' 'RDU' 'SAN' 'SAT' 'SDF' 'SEA'\n",
      " 'SFO' 'SJC' 'SJU' 'SLC' 'STL' 'TEB' 'TPA']\n",
      "Number of California airports in the network: 7\n",
      "The Californian airports in the network are: {'BUR', 'ONT', 'LAX', 'SFO', 'OAK', 'SAN', 'SJC'}\n"
     ]
    }
   ],
   "source": [
    "\n",
    "qualified_ca_airports = set(qualified_airports).intersection(ca_airport)\n",
    "print('Number of airports in the network:', len(qualified_airports))\n",
    "print('The airports in the network are:', qualified_airports)\n",
    "print('Number of California airports in the network:', len(qualified_ca_airports))\n",
    "print('The Californian airports in the network are:', qualified_ca_airports)\n",
    "\n",
    "qualified_airports = {index: value for index, value in enumerate(qualified_airports)}\n",
    "qualified_ca_airports = {index: value for index, value in enumerate(qualified_ca_airports)}\n",
    "\n",
    "qualified_airports_inverse = {value: index for index, value in qualified_airports.items()}\n",
    "qualified_ca_airports_inverse = {value: index for index, value in qualified_ca_airports.items()}\n"
   ]
  },
  {
   "cell_type": "code",
   "execution_count": 469,
   "metadata": {},
   "outputs": [],
   "source": [
    "def build_xy(\n",
    "    x_start_quarter, \n",
    "    x_end_quarter, \n",
    "    y_start_quarter, \n",
    "    y_end_quarter, \n",
    "    qualified_airports, \n",
    "    qualified_airports_inverse,\n",
    "    qualified_ca_airports,\n",
    "    qualified_ca_airports_inverse\n",
    "):\n",
    "    num_edges = len(qualified_ca_airports) * (len(qualified_airports)-1) * 2\n",
    "\n",
    "    x_nodes = np.empty((x_end_quarter-x_start_quarter, len(qualified_airports), 1), dtype=int)\n",
    "    x_edges_all = np.empty((x_end_quarter-x_start_quarter, num_edges, 2), dtype=int)\n",
    "    x_edge_attr_all = np.empty((x_end_quarter-x_start_quarter, num_edges, 1), dtype=int)\n",
    "    y = np.empty((len(qualified_ca_airports), y_end_quarter-y_start_quarter))\n",
    "\n",
    "    for q_id in range(x_start_quarter, x_end_quarter):\n",
    "        x_edges = np.empty((1,2), dtype=int)\n",
    "        x_edge_attr = np.empty((1,1), dtype=int)\n",
    "\n",
    "        df_q_id = df[(df['quarter_id'] == q_id)]\n",
    "        df_q_id = df_q_id[df_q_id['Origin'].isin(qualified_airports.values())]\n",
    "        df_q_id = df_q_id[df_q_id['Dest'].isin(qualified_airports.values())].reset_index(drop=True)\n",
    "        throughput_q_id = throughput_selected[throughput_selected['quarter_id'] == q_id]\n",
    "\n",
    "        for node_index in range(len(qualified_airports)):\n",
    "            try:\n",
    "                x_nodes[q_id-x_start_quarter, node_index, 0] = throughput_q_id[throughput_q_id['Facility'] == qualified_airports[node_index]]['total_throughput'].values[0]\n",
    "            except IndexError:\n",
    "                x_nodes[q_id-x_start_quarter, node_index, 0] = 0\n",
    "\n",
    "        for origin in qualified_ca_airports.values():\n",
    "            for dest in qualified_airports.values():\n",
    "                if origin != dest:\n",
    "                    x_edges = np.concatenate((x_edges, [[qualified_airports_inverse[origin], qualified_airports_inverse[dest]]]), axis=0)\n",
    "                    try:\n",
    "                        passengers = df_q_id[(df_q_id['Origin'] == origin) & (df_q_id['Dest'] == dest)]['Passengers'].values[0]\n",
    "                        x_edge_attr = np.concatenate((x_edge_attr, [[passengers]]), axis=0)\n",
    "                    except IndexError:\n",
    "                        x_edge_attr = np.concatenate((x_edge_attr, [[0]]), axis=0)\n",
    "\n",
    "        for origin in qualified_airports.values():\n",
    "            for dest in qualified_ca_airports.values():\n",
    "                if origin != dest:\n",
    "                    x_edges = np.concatenate((x_edges, [[qualified_airports_inverse[origin], qualified_airports_inverse[dest]]]), axis=0)\n",
    "                    try:\n",
    "                        passengers = df_q_id[(df_q_id['Origin'] == origin) & (df_q_id['Dest'] == dest)]['Passengers'].values[0]\n",
    "                        x_edge_attr = np.concatenate((x_edge_attr, [[passengers]]), axis=0)\n",
    "                    except IndexError:\n",
    "                        x_edge_attr = np.concatenate((x_edge_attr, [[0]]), axis=0)\n",
    "\n",
    "        x_edges = np.delete(x_edges, 0, axis=0)\n",
    "        x_edge_attr = np.delete(x_edge_attr, 0, axis=0)\n",
    "\n",
    "        x_edges_all[q_id-x_start_quarter] = x_edges\n",
    "        x_edge_attr_all[q_id-x_start_quarter] = x_edge_attr\n",
    "\n",
    "    for q_id in range(y_start_quarter, y_end_quarter):\n",
    "        throughput_q_id = throughput_selected[throughput_selected['quarter_id'] == q_id]\n",
    "        for ca_airport in qualified_ca_airports.values():\n",
    "            throughput = throughput_q_id[throughput_q_id['Facility'] == ca_airport]['total_throughput'].values[0]\n",
    "            y[qualified_ca_airports_inverse[ca_airport], q_id-y_start_quarter] = throughput\n",
    "\n",
    "    return x_nodes, x_edges_all, x_edge_attr_all, y"
   ]
  },
  {
   "cell_type": "code",
   "execution_count": 468,
   "metadata": {},
   "outputs": [
    {
     "data": {
      "text/plain": [
       "{0: 'OAK', 1: 'BUR', 2: 'SAN', 3: 'SFO', 4: 'ONT', 5: 'LAX', 6: 'SJC'}"
      ]
     },
     "execution_count": 468,
     "metadata": {},
     "output_type": "execute_result"
    }
   ],
   "source": [
    "qualified_ca_airports"
   ]
  },
  {
   "cell_type": "code",
   "execution_count": 471,
   "metadata": {},
   "outputs": [],
   "source": [
    "a,b,c,d = build_xy(training_x_start_quarter, \n",
    "                 training_x_end_quarter, \n",
    "                 training_y_start_quarter, \n",
    "                 training_y_end_quarter, \n",
    "                 qualified_airports, \n",
    "                 qualified_airports_inverse, \n",
    "                 qualified_ca_airports,\n",
    "                 qualified_ca_airports_inverse)"
   ]
  },
  {
   "cell_type": "code",
   "execution_count": null,
   "metadata": {},
   "outputs": [],
   "source": [
    "x_train [[q1,q2,q3,..,q20]]\n",
    "\n",
    "\n",
    "y<- throughput"
   ]
  },
  {
   "cell_type": "code",
   "execution_count": null,
   "metadata": {},
   "outputs": [],
   "source": []
  },
  {
   "cell_type": "code",
   "execution_count": 264,
   "metadata": {},
   "outputs": [
    {
     "ename": "NameError",
     "evalue": "name 'torch' is not defined",
     "output_type": "error",
     "traceback": [
      "\u001b[0;31m---------------------------------------------------------------------------\u001b[0m",
      "\u001b[0;31mNameError\u001b[0m                                 Traceback (most recent call last)",
      "Cell \u001b[0;32mIn[264], line 2\u001b[0m\n\u001b[1;32m      1\u001b[0m \u001b[38;5;66;03m# Node features for each graph: shape [num_nodes, num_node_features]\u001b[39;00m\n\u001b[0;32m----> 2\u001b[0m x \u001b[38;5;241m=\u001b[39m torch\u001b[38;5;241m.\u001b[39mtensor([[\u001b[38;5;241m0.1\u001b[39m, \u001b[38;5;241m0.2\u001b[39m], [\u001b[38;5;241m0.3\u001b[39m, \u001b[38;5;241m0.4\u001b[39m], [\u001b[38;5;241m0.5\u001b[39m, \u001b[38;5;241m0.6\u001b[39m]])\n\u001b[1;32m      4\u001b[0m \u001b[38;5;66;03m# Edge index for each graph: shape [2, num_edges]\u001b[39;00m\n\u001b[1;32m      5\u001b[0m edge_index \u001b[38;5;241m=\u001b[39m torch\u001b[38;5;241m.\u001b[39mtensor([[\u001b[38;5;241m0\u001b[39m, \u001b[38;5;241m1\u001b[39m], [\u001b[38;5;241m1\u001b[39m, \u001b[38;5;241m2\u001b[39m]])  \u001b[38;5;66;03m# Directed edges: 0->1 and 1->2\u001b[39;00m\n",
      "\u001b[0;31mNameError\u001b[0m: name 'torch' is not defined"
     ]
    }
   ],
   "source": [
    "# Node features for each graph: shape [num_nodes, num_node_features]\n",
    "x = torch.tensor([[0.1, 0.2], [0.3, 0.4], [0.5, 0.6]])\n",
    "\n",
    "# Edge index for each graph: shape [2, num_edges]\n",
    "edge_index = torch.tensor([[0, 1], [1, 2]])  # Directed edges: 0->1 and 1->2\n",
    "\n",
    "# Edge features for each graph: shape [num_edges, num_edge_features]\n",
    "edge_attr = torch.tensor([[0.1], [0.2]])\n",
    "\n",
    "# Output for each graph: shape [num_nodes, output_dim]\n",
    "output = torch.tensor([[1.0], [2.0], [3.0]])  # Assuming a scalar output for each node\n"
   ]
  },
  {
   "cell_type": "code",
   "execution_count": null,
   "metadata": {},
   "outputs": [],
   "source": [
    "nodes = np.empty((77,1))\n",
    "for i in range(77):\n",
    "    nodes[i] = df_q_id[(df_q_id['origin'] == self.aspm_77[i]) or (df_q_id['destination'] == self.aspm_77[i])]['passengers'].sum()"
   ]
  },
  {
   "cell_type": "code",
   "execution_count": 102,
   "metadata": {},
   "outputs": [],
   "source": []
  },
  {
   "cell_type": "code",
   "execution_count": null,
   "metadata": {},
   "outputs": [],
   "source": []
  },
  {
   "cell_type": "code",
   "execution_count": 89,
   "metadata": {},
   "outputs": [
    {
     "data": {
      "text/html": [
       "<div>\n",
       "<style scoped>\n",
       "    .dataframe tbody tr th:only-of-type {\n",
       "        vertical-align: middle;\n",
       "    }\n",
       "\n",
       "    .dataframe tbody tr th {\n",
       "        vertical-align: top;\n",
       "    }\n",
       "\n",
       "    .dataframe thead th {\n",
       "        text-align: right;\n",
       "    }\n",
       "</style>\n",
       "<table border=\"1\" class=\"dataframe\">\n",
       "  <thead>\n",
       "    <tr style=\"text-align: right;\">\n",
       "      <th></th>\n",
       "      <th>Facility</th>\n",
       "      <th>quarter_id</th>\n",
       "    </tr>\n",
       "  </thead>\n",
       "  <tbody>\n",
       "    <tr>\n",
       "      <th>1</th>\n",
       "      <td>ANC</td>\n",
       "      <td>77</td>\n",
       "    </tr>\n",
       "    <tr>\n",
       "      <th>3</th>\n",
       "      <td>AUS</td>\n",
       "      <td>77</td>\n",
       "    </tr>\n",
       "    <tr>\n",
       "      <th>5</th>\n",
       "      <td>BHM</td>\n",
       "      <td>77</td>\n",
       "    </tr>\n",
       "    <tr>\n",
       "      <th>8</th>\n",
       "      <td>BUF</td>\n",
       "      <td>77</td>\n",
       "    </tr>\n",
       "    <tr>\n",
       "      <th>9</th>\n",
       "      <td>BUR</td>\n",
       "      <td>96</td>\n",
       "    </tr>\n",
       "    <tr>\n",
       "      <th>14</th>\n",
       "      <td>DAL</td>\n",
       "      <td>96</td>\n",
       "    </tr>\n",
       "    <tr>\n",
       "      <th>22</th>\n",
       "      <td>GYY</td>\n",
       "      <td>77</td>\n",
       "    </tr>\n",
       "    <tr>\n",
       "      <th>23</th>\n",
       "      <td>HNL</td>\n",
       "      <td>96</td>\n",
       "    </tr>\n",
       "    <tr>\n",
       "      <th>29</th>\n",
       "      <td>ISP</td>\n",
       "      <td>77</td>\n",
       "    </tr>\n",
       "    <tr>\n",
       "      <th>30</th>\n",
       "      <td>JAX</td>\n",
       "      <td>77</td>\n",
       "    </tr>\n",
       "    <tr>\n",
       "      <th>35</th>\n",
       "      <td>LGB</td>\n",
       "      <td>77</td>\n",
       "    </tr>\n",
       "    <tr>\n",
       "      <th>40</th>\n",
       "      <td>MHT</td>\n",
       "      <td>77</td>\n",
       "    </tr>\n",
       "    <tr>\n",
       "      <th>42</th>\n",
       "      <td>MKE</td>\n",
       "      <td>77</td>\n",
       "    </tr>\n",
       "    <tr>\n",
       "      <th>45</th>\n",
       "      <td>OAK</td>\n",
       "      <td>96</td>\n",
       "    </tr>\n",
       "    <tr>\n",
       "      <th>46</th>\n",
       "      <td>OGG</td>\n",
       "      <td>77</td>\n",
       "    </tr>\n",
       "    <tr>\n",
       "      <th>47</th>\n",
       "      <td>OMA</td>\n",
       "      <td>77</td>\n",
       "    </tr>\n",
       "    <tr>\n",
       "      <th>50</th>\n",
       "      <td>OXR</td>\n",
       "      <td>77</td>\n",
       "    </tr>\n",
       "    <tr>\n",
       "      <th>56</th>\n",
       "      <td>PSP</td>\n",
       "      <td>68</td>\n",
       "    </tr>\n",
       "    <tr>\n",
       "      <th>57</th>\n",
       "      <td>PVD</td>\n",
       "      <td>77</td>\n",
       "    </tr>\n",
       "    <tr>\n",
       "      <th>59</th>\n",
       "      <td>RFD</td>\n",
       "      <td>77</td>\n",
       "    </tr>\n",
       "    <tr>\n",
       "      <th>60</th>\n",
       "      <td>RSW</td>\n",
       "      <td>77</td>\n",
       "    </tr>\n",
       "    <tr>\n",
       "      <th>63</th>\n",
       "      <td>SDF</td>\n",
       "      <td>96</td>\n",
       "    </tr>\n",
       "    <tr>\n",
       "      <th>69</th>\n",
       "      <td>SMF</td>\n",
       "      <td>68</td>\n",
       "    </tr>\n",
       "    <tr>\n",
       "      <th>70</th>\n",
       "      <td>SNA</td>\n",
       "      <td>77</td>\n",
       "    </tr>\n",
       "    <tr>\n",
       "      <th>72</th>\n",
       "      <td>SWF</td>\n",
       "      <td>77</td>\n",
       "    </tr>\n",
       "    <tr>\n",
       "      <th>73</th>\n",
       "      <td>TEB</td>\n",
       "      <td>96</td>\n",
       "    </tr>\n",
       "    <tr>\n",
       "      <th>75</th>\n",
       "      <td>TUS</td>\n",
       "      <td>77</td>\n",
       "    </tr>\n",
       "    <tr>\n",
       "      <th>76</th>\n",
       "      <td>VNY</td>\n",
       "      <td>77</td>\n",
       "    </tr>\n",
       "  </tbody>\n",
       "</table>\n",
       "</div>"
      ],
      "text/plain": [
       "   Facility  quarter_id\n",
       "1       ANC          77\n",
       "3       AUS          77\n",
       "5       BHM          77\n",
       "8       BUF          77\n",
       "9       BUR          96\n",
       "14      DAL          96\n",
       "22      GYY          77\n",
       "23      HNL          96\n",
       "29      ISP          77\n",
       "30      JAX          77\n",
       "35      LGB          77\n",
       "40      MHT          77\n",
       "42      MKE          77\n",
       "45      OAK          96\n",
       "46      OGG          77\n",
       "47      OMA          77\n",
       "50      OXR          77\n",
       "56      PSP          68\n",
       "57      PVD          77\n",
       "59      RFD          77\n",
       "60      RSW          77\n",
       "63      SDF          96\n",
       "69      SMF          68\n",
       "70      SNA          77\n",
       "72      SWF          77\n",
       "73      TEB          96\n",
       "75      TUS          77\n",
       "76      VNY          77"
      ]
     },
     "execution_count": 89,
     "metadata": {},
     "output_type": "execute_result"
    }
   ],
   "source": [
    "data_aval = throughput_grouped.groupby('Facility')['quarter_id'].count().reset_index()\n",
    "throughput_grouped.groupby('Facility')['quarter_id'].count().sort_values(ascending=False)\n",
    "data_aval[data_aval['quarter_id'] != 104]"
   ]
  },
  {
   "cell_type": "code",
   "execution_count": 87,
   "metadata": {},
   "outputs": [
    {
     "data": {
      "text/plain": [
       "25"
      ]
     },
     "execution_count": 87,
     "metadata": {},
     "output_type": "execute_result"
    }
   ],
   "source": []
  },
  {
   "cell_type": "code",
   "execution_count": null,
   "metadata": {},
   "outputs": [],
   "source": [
    "# Node features for each graph: shape [num_nodes, num_node_features]\n",
    "x = torch.tensor([[0.1, 0.2], [0.3, 0.4], [0.5, 0.6]])\n",
    "\n",
    "# Edge index for each graph: shape [2, num_edges]\n",
    "edge_index = torch.tensor([[0, 1], [1, 2]])  # Directed edges: 0->1 and 1->2\n",
    "\n",
    "# Edge features for each graph: shape [num_edges, num_edge_features]\n",
    "edge_attr = torch.tensor([[0.1], [0.2]])\n",
    "\n",
    "# Output for each graph: shape [num_nodes, output_dim]\n",
    "output = torch.tensor([[1.0], [2.0], [3.0]])  # Assuming a scalar output for each node"
   ]
  },
  {
   "cell_type": "code",
   "execution_count": 1,
   "metadata": {},
   "outputs": [],
   "source": [
    "import os\n",
    "os.chdir('code/')\n",
    "from dataset import AirportDataset"
   ]
  },
  {
   "cell_type": "code",
   "execution_count": 2,
   "metadata": {},
   "outputs": [
    {
     "name": "stdout",
     "output_type": "stream",
     "text": [
      "Number of airports in the network: 49\n",
      "The airports in the network are: ['ABQ' 'ATL' 'BDL' 'BNA' 'BOS' 'BWI' 'CLE' 'CLT' 'CVG' 'DAY' 'DCA' 'DEN'\n",
      " 'DFW' 'DTW' 'EWR' 'FLL' 'HOU' 'HPN' 'IAD' 'IAH' 'IND' 'JFK' 'LAS' 'LAX'\n",
      " 'LGA' 'MCI' 'MCO' 'MDW' 'MEM' 'MIA' 'MSP' 'MSY' 'ONT' 'ORD' 'PBI' 'PDX'\n",
      " 'PHL' 'PHX' 'PIT' 'RDU' 'SAN' 'SAT' 'SEA' 'SFO' 'SJC' 'SJU' 'SLC' 'STL'\n",
      " 'TPA']\n",
      "Number of California airports in the network: 5\n",
      "The Californian airports in the network are: {'SFO', 'SJC', 'SAN', 'ONT', 'LAX'}\n",
      "Building training set\n"
     ]
    },
    {
     "name": "stderr",
     "output_type": "stream",
     "text": [
      "100%|██████████| 24/24 [00:15<00:00,  1.59it/s]\n"
     ]
    },
    {
     "name": "stdout",
     "output_type": "stream",
     "text": [
      "Building testing set\n"
     ]
    },
    {
     "name": "stderr",
     "output_type": "stream",
     "text": [
      "100%|██████████| 12/12 [00:07<00:00,  1.60it/s]\n"
     ]
    }
   ],
   "source": [
    "dataset = AirportDataset([1,1998], \n",
    "                         batch_length=8, \n",
    "                         n_train_samples=24, \n",
    "                         n_test_samples=12, \n",
    "                         prediction_horizon=4)"
   ]
  },
  {
   "cell_type": "code",
   "execution_count": 3,
   "metadata": {},
   "outputs": [],
   "source": [
    "from dgl.data import DGLDataset\n",
    "import dgl\n",
    "import numpy as np\n",
    "import torch"
   ]
  },
  {
   "cell_type": "code",
   "execution_count": 30,
   "metadata": {},
   "outputs": [],
   "source": [
    "class AirportGraph():\n",
    "    def __init__(self, nodes, edges, edge_attr, y):\n",
    "        self.nodes = nodes\n",
    "        self.edges = edges\n",
    "        self.edge_attr = edge_attr\n",
    "        self.y = y\n",
    "\n",
    "    def process(self):\n",
    "        self.series = []\n",
    "        self.y_transformed = np.empty(shape=(len(self.y), self.y[0].shape[0]*self.y[0].shape[1]))\n",
    "\n",
    "        for series in range(len(self.nodes)):\n",
    "            node_sample = self.nodes[series]\n",
    "            edge_sample = self.edges[series]\n",
    "            edge_attr_sample = self.edge_attr[series]\n",
    "\n",
    "            list_of_graphs = []\n",
    "        \n",
    "            for graph in range(node_sample.shape[0]):\n",
    "                transformed_edges = edge_sample[graph].T\n",
    "                g = dgl.graph(\n",
    "                    (torch.LongTensor(transformed_edges[0]), torch.LongTensor(transformed_edges[1]))\n",
    "                )\n",
    "                \n",
    "                g.ndata[\"x\"] = torch.tensor(node_sample[graph]).float()\n",
    "                g.edata[\"weight\"] = torch.tensor(edge_attr_sample[graph]).float()\n",
    "\n",
    "\n",
    "                list_of_graphs.append(g)\n",
    "\n",
    "            self.series.append(list_of_graphs)\n",
    "        \n",
    "            self.y_transformed[series] = self.y[series].flatten()\n",
    "        \n",
    "        self.y_transformed = torch.tensor(self.y_transformed).float()\n",
    "\n"
   ]
  },
  {
   "cell_type": "code",
   "execution_count": 31,
   "metadata": {},
   "outputs": [],
   "source": [
    "a = AirportGraph(nodes=dataset.train_x_nodes, \n",
    "                 edges=dataset.train_x_edges, \n",
    "                 edge_attr=dataset.train_x_edges_attr,\n",
    "                 y=dataset.train_y)\n",
    "a.process()\n",
    "\n",
    "from dgl.nn import EdgeGATConv\n",
    "import torch.nn as nn\n",
    "import torch.nn.functional as F\n",
    "from model import DeepAir\n",
    "from train import train_model"
   ]
  },
  {
   "cell_type": "code",
   "execution_count": 32,
   "metadata": {},
   "outputs": [],
   "source": [
    "\n",
    "\n",
    "\n",
    "model = DeepAir(len(dataset.qualified_ca_airports), prediction_horizon=dataset.prediction_horizon)\n",
    "optimizer = torch.optim.Adam(model.parameters(), lr=0.001)"
   ]
  },
  {
   "cell_type": "code",
   "execution_count": 33,
   "metadata": {},
   "outputs": [
    {
     "data": {
      "text/plain": [
       "torch.Size([24, 20])"
      ]
     },
     "execution_count": 33,
     "metadata": {},
     "output_type": "execute_result"
    }
   ],
   "source": [
    "model(a.series).shape"
   ]
  },
  {
   "cell_type": "markdown",
   "metadata": {},
   "source": [
    "## PATTERN"
   ]
  },
  {
   "cell_type": "code",
   "execution_count": 208,
   "metadata": {},
   "outputs": [],
   "source": [
    "test_y = np.load('test_y.npy')\n",
    "test_y_predicted = np.load('test_y_predicted.npy')\n",
    "\n",
    "test_y_predicted =test_y_predicted.reshape(test_y.shape)"
   ]
  },
  {
   "cell_type": "code",
   "execution_count": 209,
   "metadata": {},
   "outputs": [],
   "source": [
    "train_y = np.load('train_y.npy')\n",
    "train_y_predicted = np.load('train_y_predicted.npy')\n",
    "train_y_predicted = train_y_predicted.reshape(train_y.shape)"
   ]
  },
  {
   "cell_type": "code",
   "execution_count": 220,
   "metadata": {},
   "outputs": [
    {
     "data": {
      "text/plain": [
       "<matplotlib.legend.Legend at 0x28bbaf150>"
      ]
     },
     "execution_count": 220,
     "metadata": {},
     "output_type": "execute_result"
    },
    {
     "data": {
      "image/png": "[encoded data removed]",
      "text/plain": [
       "<Figure size 640x480 with 1 Axes>"
      ]
     },
     "metadata": {},
     "output_type": "display_data"
    }
   ],
   "source": [
    "import matplotlib.pyplot as plt\n",
    "fig, ax = plt.subplots()\n",
    "\n",
    "ax.plot(train_y[0,3,:], label='Ground Truth')\n",
    "ax.plot(train_y_predicted[0,3,:], label='Predicted')\n",
    "# ax.set(ylim=(0, 160000))\n",
    "ax.legend()\n"
   ]
  },
  {
   "cell_type": "code",
   "execution_count": 222,
   "metadata": {},
   "outputs": [
    {
     "data": {
      "text/plain": [
       "[(0.0, 100000.0)]"
      ]
     },
     "execution_count": 222,
     "metadata": {},
     "output_type": "execute_result"
    },
    {
     "data": {
      "image/png": "[encoded data removed]",
      "text/plain": [
       "<Figure size 640x480 with 1 Axes>"
      ]
     },
     "metadata": {},
     "output_type": "display_data"
    }
   ],
   "source": [
    "fig, ax = plt.subplots()\n",
    "ax.plot(train_y[4,3,:], label='Ground Truth')\n",
    "ax.plot(train_y_predicted[4,3,:], label='Predicted')\n",
    "ax.plot(title='train set')\n",
    "ax.set(ylim=(0, 100000))"
   ]
  },
  {
   "cell_type": "code",
   "execution_count": 164,
   "metadata": {},
   "outputs": [
    {
     "data": {
      "text/plain": [
       "(0.0, 100000.0)"
      ]
     },
     "execution_count": 164,
     "metadata": {},
     "output_type": "execute_result"
    },
    {
     "data": {
      "image/png": "[encoded data removed]",
      "text/plain": [
       "<Figure size 640x480 with 1 Axes>"
      ]
     },
     "metadata": {},
     "output_type": "display_data"
    }
   ],
   "source": [
    "plt.plot(train_y[0,0,:])\n",
    "plt.ylim(0, 100000)"
   ]
  },
  {
   "cell_type": "code",
   "execution_count": 49,
   "metadata": {},
   "outputs": [
    {
     "name": "stdout",
     "output_type": "stream",
     "text": [
      "Number of airports in the network: 49\n",
      "The airports in the network are: ['ABQ' 'ATL' 'BDL' 'BNA' 'BOS' 'BWI' 'CLE' 'CLT' 'CVG' 'DAY' 'DCA' 'DEN'\n",
      " 'DFW' 'DTW' 'EWR' 'FLL' 'HOU' 'HPN' 'IAD' 'IAH' 'IND' 'JFK' 'LAS' 'LAX'\n",
      " 'LGA' 'MCI' 'MCO' 'MDW' 'MEM' 'MIA' 'MSP' 'MSY' 'ONT' 'ORD' 'PBI' 'PDX'\n",
      " 'PHL' 'PHX' 'PIT' 'RDU' 'SAN' 'SAT' 'SEA' 'SFO' 'SJC' 'SJU' 'SLC' 'STL'\n",
      " 'TPA']\n",
      "Number of California airports in the network: 5\n",
      "The Californian airports in the network are: {'LAX', 'SFO', 'SJC', 'ONT', 'SAN'}\n",
      "Building training set\n"
     ]
    },
    {
     "name": "stderr",
     "output_type": "stream",
     "text": [
      "100%|██████████| 48/48 [00:29<00:00,  1.61it/s]\n"
     ]
    },
    {
     "name": "stdout",
     "output_type": "stream",
     "text": [
      "Building testing set\n"
     ]
    },
    {
     "name": "stderr",
     "output_type": "stream",
     "text": [
      "100%|██████████| 12/12 [00:07<00:00,  1.61it/s]\n"
     ]
    }
   ],
   "source": [
    "import os\n",
    "os.chdir('code/')\n",
    "from dataset import AirportDataset\n",
    "os.chdir('../')\n",
    "dataset = AirportDataset(training_start_quarter=[1,1998], \n",
    "                            batch_length=8, \n",
    "                            n_train_samples=48, \n",
    "                            n_test_samples=12, \n",
    "                            prediction_horizon=4)"
   ]
  },
  {
   "cell_type": "code",
   "execution_count": 54,
   "metadata": {},
   "outputs": [
    {
     "data": {
      "text/plain": [
       "array([[141351., 138632., 144770., 149413.],\n",
       "       [ 96706.,  93651., 102408., 107170.],\n",
       "       [ 25110.,  24394.,  25662.,  25953.],\n",
       "       [ 17815.,  16527.,  16719.,  16583.],\n",
       "       [ 42534.,  41152.,  43752.,  45395.]])"
      ]
     },
     "execution_count": 54,
     "metadata": {},
     "output_type": "execute_result"
    }
   ],
   "source": [
    "np.exp(dataset.train_y)[47]"
   ]
  },
  {
   "cell_type": "code",
   "execution_count": 58,
   "metadata": {},
   "outputs": [
    {
     "data": {
      "text/plain": [
       "array([[ 96229., 105727., 108439., 102572.],\n",
       "       [ 41912.,  45177.,  47644.,  45391.],\n",
       "       [143034., 153138., 158627., 152062.],\n",
       "       [ 26086.,  28049.,  29170.,  27763.],\n",
       "       [ 15690.,  16272.,  16181.,  17131.]])"
      ]
     },
     "execution_count": 58,
     "metadata": {},
     "output_type": "execute_result"
    }
   ],
   "source": [
    "test_y[0]"
   ]
  },
  {
   "cell_type": "code",
   "execution_count": 81,
   "metadata": {},
   "outputs": [],
   "source": []
  },
  {
   "cell_type": "code",
   "execution_count": 87,
   "metadata": {},
   "outputs": [],
   "source": [
    "comb_array = np.array(list(combinations))"
   ]
  },
  {
   "cell_type": "code",
   "execution_count": 88,
   "metadata": {},
   "outputs": [
    {
     "data": {
      "text/plain": [
       "(1048569, 20)"
      ]
     },
     "execution_count": 88,
     "metadata": {},
     "output_type": "execute_result"
    }
   ],
   "source": [
    "comb_array.shape"
   ]
  },
  {
   "cell_type": "code",
   "execution_count": null,
   "metadata": {},
   "outputs": [],
   "source": []
  }
 ],
 "metadata": {
  "kernelspec": {
   "display_name": "base",
   "language": "python",
   "name": "python3"
  },
  "language_info": {
   "codemirror_mode": {
    "name": "ipython",
    "version": 3
   },
   "file_extension": ".py",
   "mimetype": "text/x-python",
   "name": "python",
   "nbconvert_exporter": "python",
   "pygments_lexer": "ipython3",
   "version": "3.11.0"
  }
 },
 "nbformat": 4,
 "nbformat_minor": 2
}
